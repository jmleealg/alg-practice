{
 "cells": [
  {
   "cell_type": "code",
   "execution_count": 1,
   "metadata": {
    "id": "VYD_Y_1WLF-2",
    "outputId": "5df46532-2b01-4477-f4b1-26679c11177f"
   },
   "outputs": [
    {
     "name": "stdout",
     "output_type": "stream",
     "text": [
      "<re.Match object; span=(1, 26), match='fake_email@fake-email.edu'>\n",
      "<re.Match object; span=(27, 53), match='fakeemail43@fake_email.com'>\n",
      "<re.Match object; span=(54, 80), match='fake891_email@fakemail.gov'>\n",
      "<re.Match object; span=(81, 111), match='52fake_email@FAKE_email.com.nl'>\n"
     ]
    }
   ],
   "source": [
    "# Import re module\n",
    "import re\n",
    "\n",
    "# Sample text\n",
    "sample_text = '''\n",
    "fake_email@fake-email.edu\n",
    "fakeemail43@fake_email.com\n",
    "fake891_email@fakemail.gov\n",
    "52fake_email@FAKE_email.com.nl\n",
    "'''\n",
    "\n",
    "# Create a regular expression object with a regular expression that can match all\n",
    "# the email addresses\n",
    "regex = re.compile(r'[a-z_0-9]+@[a-zA-Z_-]+\\.[a-z]+\\.?[a-z]+')\n",
    "\n",
    "# Search the sample_text for the regular expression\n",
    "matches = regex.finditer(sample_text)\n",
    "\n",
    "# Print all the matches\n",
    "for match in matches:\n",
    "    print(match)"
   ]
  },
  {
   "cell_type": "code",
   "execution_count": null,
   "metadata": {
    "id": "PA_Fv5L2U-1K"
   },
   "outputs": [],
   "source": []
  },
  {
   "cell_type": "code",
   "execution_count": 2,
   "metadata": {
    "colab": {
     "base_uri": "https://localhost:8080/"
    },
    "id": "C0CULFI-MIUV",
    "outputId": "b01cc1e6-5094-4d62-fb19-519f6031ca98"
   },
   "outputs": [
    {
     "name": "stdout",
     "output_type": "stream",
     "text": [
      "<re.Match object; span=(0, 5), match='01101'>\n"
     ]
    }
   ],
   "source": [
    "# Import re module\n",
    "import re\n",
    "\n",
    "# Sample text\n",
    "accept_text = '01101'\n",
    "reject_text = '00101'\n",
    "\n",
    "# Create a regular expression object with a regular expression that can match all\n",
    "# the email addresses\n",
    "regex = re.compile(r'[01]*11[01]*')\n",
    "\n",
    "# Search the sample_text for the regular expression\n",
    "matches = regex.finditer(accept_text)\n",
    "\n",
    "# Print all the matches\n",
    "for match in matches:\n",
    "    print(match)\n",
    "\n",
    "# Search the sample_text for the regular expression\n",
    "matches = regex.finditer(reject_text)\n",
    "\n",
    "# Print all the matches\n",
    "for match in matches:\n",
    "    print(match)"
   ]
  },
  {
   "cell_type": "code",
   "execution_count": 3,
   "metadata": {
    "colab": {
     "base_uri": "https://localhost:8080/"
    },
    "id": "IkZADQPrVAWo",
    "outputId": "32480978-ca76-4da9-bd91-c9d9a29e5656"
   },
   "outputs": [
    {
     "name": "stdout",
     "output_type": "stream",
     "text": [
      "Requirement already satisfied: greenery in c:\\users\\owner\\appdata\\local\\programs\\python\\python38\\lib\\site-packages (3.3.2)\n",
      "b*a(a*b+a)*(a+b?|b)\n"
     ]
    },
    {
     "name": "stderr",
     "output_type": "stream",
     "text": [
      "WARNING: You are using pip version 20.2.1; however, version 21.3 is available.\n",
      "You should consider upgrading via the 'c:\\users\\owner\\appdata\\local\\programs\\python\\python38\\python.exe -m pip install --upgrade pip' command.\n"
     ]
    }
   ],
   "source": [
    "!pip install greenery\n",
    "from greenery import fsm, lego\n",
    "\n",
    "A, B, C, D, E = range(5)\n",
    "a, b = 'a', 'b'\n",
    "\n",
    "# create the FSM\n",
    "machine = fsm.fsm(\n",
    "    alphabet = {a, b},\n",
    "    states   = {A, B, C, D, E},\n",
    "    initial  = A,\n",
    "    finals   = {C, E},\n",
    "    map      = {\n",
    "            A : {a: B, b: D},\n",
    "            B : {a: C, b: E},\n",
    "            C : {a: C, b: E},\n",
    "            D : {a: B, b: D},\n",
    "            E : {a: B, b: D}\n",
    "    },\n",
    ")\n",
    "\n",
    "# convert it to regex\n",
    "rex = lego.from_fsm(machine)\n",
    "print(rex)\n"
   ]
  },
  {
   "cell_type": "code",
   "execution_count": 4,
   "metadata": {
    "colab": {
     "base_uri": "https://localhost:8080/"
    },
    "id": "ANW78uZOWgM4",
    "outputId": "7f05f5c0-048a-43bd-8018-ea6e5c827f09"
   },
   "outputs": [
    {
     "name": "stdout",
     "output_type": "stream",
     "text": [
      "  name final? a b \n",
      "------------------\n",
      "* 0    False  1 3 \n",
      "  1    False  2 4 \n",
      "  2    True   2 4 \n",
      "  3    False  1 3 \n",
      "  4    True   1 3 \n",
      "\n"
     ]
    },
    {
     "data": {
      "text/plain": [
       "True"
      ]
     },
     "execution_count": 4,
     "metadata": {},
     "output_type": "execute_result"
    }
   ],
   "source": [
    "print(machine)\n",
    "machine.accepts([\"a\", \"a\", \"b\"])"
   ]
  },
  {
   "cell_type": "code",
   "execution_count": 5,
   "metadata": {
    "colab": {
     "base_uri": "https://localhost:8080/"
    },
    "id": "8fj4O6nhLF-4",
    "outputId": "8d0486a4-053e-4f8f-ccad-7be06c1b0bf6"
   },
   "outputs": [
    {
     "name": "stderr",
     "output_type": "stream",
     "text": [
      "[nltk_data] Downloading package punkt to\n",
      "[nltk_data]     C:\\Users\\Owner\\AppData\\Roaming\\nltk_data...\n",
      "[nltk_data]   Unzipping tokenizers\\punkt.zip.\n"
     ]
    },
    {
     "name": "stdout",
     "output_type": "stream",
     "text": [
      "(S (E (E (T (F a))) + (T (T (F a)) x (F a))))\n",
      "         S         \n",
      "         |          \n",
      "         E         \n",
      "  _______|___       \n",
      " |   E       T     \n",
      " |   |    ___|___   \n",
      " |   T   |   T   | \n",
      " |   |   |   |   |  \n",
      " |   F   |   F   F \n",
      " |   |   |   |   |  \n",
      " +   a   x   a   a \n",
      "\n",
      "a + a x a + a x a x a\n",
      "a + a x a + a x a\n",
      "a + a x a + a\n",
      "a + a + a x a x a\n",
      "a + a + a x a\n",
      "a + a + a\n",
      "a x a + a x a x a\n",
      "a x a + a x a\n",
      "a x a + a\n",
      "a + a x a x a\n"
     ]
    }
   ],
   "source": [
    "%matplotlib inline\n",
    "import nltk\n",
    "from nltk.tokenize import word_tokenize\n",
    "\n",
    "nltk.download('punkt')\n",
    "\n",
    "\n",
    "# Define a custom grammar\n",
    "my_grammar = nltk.CFG.fromstring(\"\"\"\n",
    "S -> E \n",
    "E -> E '+' T | T\n",
    "T -> T 'x' F | F\n",
    "F -> '(' E ')' | 'a'\n",
    "\"\"\")\n",
    "parser = nltk.ChartParser(my_grammar)\n",
    "\n",
    "# Parse a sentence\n",
    "sentence = word_tokenize(\"a + a x a\")\n",
    "for tree in parser.parse(sentence):\n",
    "    print(tree)\n",
    "    tree.pretty_print()\n",
    "\n",
    "\n",
    "from nltk.parse.generate import generate\n",
    "\n",
    "for sentence in generate(my_grammar, n=10, depth=7):\n",
    "    print(' '.join(sentence))"
   ]
  }
 ],
 "metadata": {
  "colab": {
   "collapsed_sections": [],
   "name": "[AA] regex_cfg_example.ipynb",
   "provenance": []
  },
  "kernelspec": {
   "display_name": "Python 3",
   "language": "python",
   "name": "python3"
  },
  "language_info": {
   "codemirror_mode": {
    "name": "ipython",
    "version": 3
   },
   "file_extension": ".py",
   "mimetype": "text/x-python",
   "name": "python",
   "nbconvert_exporter": "python",
   "pygments_lexer": "ipython3",
   "version": "3.8.6"
  }
 },
 "nbformat": 4,
 "nbformat_minor": 1
}
